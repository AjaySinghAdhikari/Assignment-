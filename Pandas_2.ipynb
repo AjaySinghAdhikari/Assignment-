{
  "metadata": {
    "kernelspec": {
      "name": "python",
      "display_name": "Python (Pyodide)",
      "language": "python"
    },
    "language_info": {
      "codemirror_mode": {
        "name": "python",
        "version": 3
      },
      "file_extension": ".py",
      "mimetype": "text/x-python",
      "name": "python",
      "nbconvert_exporter": "python",
      "pygments_lexer": "ipython3",
      "version": "3.8"
    }
  },
  "nbformat_minor": 5,
  "nbformat": 4,
  "cells": [
    {
      "id": "2cee7ce9-97c8-4836-8e9c-965eb0d3b2e6",
      "cell_type": "code",
      "source": "import pandas as pd\nimport numpy as np",
      "metadata": {
        "trusted": true
      },
      "outputs": [],
      "execution_count": 1
    },
    {
      "id": "a420d6ca-9a7f-4dcc-92a3-51f763057121",
      "cell_type": "code",
      "source": "df =pd.DataFrame({\"A\":[1,2,3], \"B\":[4,5,6]})",
      "metadata": {
        "trusted": true
      },
      "outputs": [],
      "execution_count": 2
    },
    {
      "id": "dac03c59-7dc5-44df-8b4d-1aa8cc1f724c",
      "cell_type": "code",
      "source": "print(\"1. df.head():\\n\", df.head())",
      "metadata": {
        "trusted": true
      },
      "outputs": [
        {
          "name": "stdout",
          "output_type": "stream",
          "text": "1. df.head():\n    A  B\n0  1  4\n1  2  5\n2  3  6\n"
        }
      ],
      "execution_count": 3
    },
    {
      "id": "ed5f750c-7a65-48f9-b09d-40035d42643d",
      "cell_type": "code",
      "source": "print(\"2. df.describe():\\n\", df.describe())",
      "metadata": {
        "trusted": true
      },
      "outputs": [
        {
          "name": "stdout",
          "output_type": "stream",
          "text": "2. df.describe():\n          A    B\ncount  3.0  3.0\nmean   2.0  5.0\nstd    1.0  1.0\nmin    1.0  4.0\n25%    1.5  4.5\n50%    2.0  5.0\n75%    2.5  5.5\nmax    3.0  6.0\n"
        }
      ],
      "execution_count": 4
    },
    {
      "id": "3b61ee68-4dfc-42a9-aaa0-2ccca89a2fee",
      "cell_type": "code",
      "source": "print(\"3. df.info():\\n\", df.info())",
      "metadata": {
        "trusted": true
      },
      "outputs": [
        {
          "name": "stdout",
          "output_type": "stream",
          "text": "<class 'pandas.core.frame.DataFrame'>\nRangeIndex: 3 entries, 0 to 2\nData columns (total 2 columns):\n #   Column  Non-Null Count  Dtype\n---  ------  --------------  -----\n 0   A       3 non-null      int64\n 1   B       3 non-null      int64\ndtypes: int64(2)\nmemory usage: 120.0 bytes\n3. df.info():\n None\n"
        }
      ],
      "execution_count": 5
    },
    {
      "id": "9add2009-bbef-4a96-a387-329194b0e423",
      "cell_type": "code",
      "source": "print(\"4. df.isnulss().sum():\\n\", df.isnull().sum())",
      "metadata": {
        "trusted": true
      },
      "outputs": [
        {
          "name": "stdout",
          "output_type": "stream",
          "text": "4. df.isnulss().sum():\n A    0\nB    0\ndtype: int64\n"
        }
      ],
      "execution_count": 6
    },
    {
      "id": "faa75164-81d0-451c-9743-4c50f32d8a87",
      "cell_type": "code",
      "source": "print(\"5. df['A'].mean():\\n\", df['A'].mean())",
      "metadata": {
        "trusted": true
      },
      "outputs": [
        {
          "name": "stdout",
          "output_type": "stream",
          "text": "5. df['A'].mean():\n 2.0\n"
        }
      ],
      "execution_count": 8
    },
    {
      "id": "3d99b985-1072-4e2a-9316-b73578285838",
      "cell_type": "code",
      "source": "import pandas as pd\n\ndef reindex_dataframe(df):\n    df.index = range(1, 2 * len(df), 2)\n    return df\n\ndf = pd.DataFrame({'A': [10, 20, 30], 'B': [40, 50, 60], 'C': [70, 80, 90]})\ndf = reindex_dataframe(df)\nprint(df)\n",
      "metadata": {
        "trusted": true
      },
      "outputs": [
        {
          "name": "stdout",
          "output_type": "stream",
          "text": "    A   B   C\n1  10  40  70\n3  20  50  80\n5  30  60  90\n"
        }
      ],
      "execution_count": 13
    },
    {
      "id": "2579c674-13a5-4f88-b01e-81f836cb67a2",
      "cell_type": "code",
      "source": "def sum_first_three(df):\n    return df['Values'][:3].sum()\n\ndf = pd.DataFrame({'Values':[10,20,30,40,50]})\nprint(\"\\nQ3: Sum of first threee values:\", sum_first_three(df))",
      "metadata": {
        "trusted": true
      },
      "outputs": [
        {
          "name": "stdout",
          "output_type": "stream",
          "text": "\n 60 Sum of first threee values:\n"
        }
      ],
      "execution_count": 14
    },
    {
      "id": "0c860fdc-9fe2-41ab-9cf3-a68f658ef1a6",
      "cell_type": "code",
      "source": "def add_word_count_column(df):\n    df['Word_Count'] = df['Text'].apply(lambda x: len(str(x).split()))\n    return df\n\ndf = pd.DataFrame({'Text': ['Hello world', 'Pandas is great', 'I love Python']})\ndf = add_word_count_column(df)\nprint(\"\\nQ4: DataFrame with Word Count:\\n\", df)\n",
      "metadata": {
        "trusted": true
      },
      "outputs": [
        {
          "name": "stdout",
          "output_type": "stream",
          "text": "\nQ4: DataFrame with Word Count:\n               Text  Word_Count\n0      Hello world           2\n1  Pandas is great           3\n2    I love Python           3\n"
        }
      ],
      "execution_count": 17
    },
    {
      "id": "42fb2e13-acaa-4bef-8b7f-49a5c1f71e0b",
      "cell_type": "code",
      "source": "\"\"\"\n- DataFrame.size returns total number of elements (rows * columns).\n- DataFrame.shape returns (number of rows, number of columns).\n\"\"\"",
      "metadata": {
        "trusted": true
      },
      "outputs": [
        {
          "execution_count": 18,
          "output_type": "execute_result",
          "data": {
            "text/plain": "'\\n- DataFrame.size returns total number of elements (rows * columns).\\n- DataFrame.shape returns (number of rows, number of columns).\\n'"
          },
          "metadata": {}
        }
      ],
      "execution_count": 18
    },
    {
      "id": "5cf35089-8de1-4f8e-9376-d0efe3135048",
      "cell_type": "code",
      "source": "\"\"\"\npd.read_excel('file.xlsx')\n\"\"\"",
      "metadata": {
        "trusted": true
      },
      "outputs": [
        {
          "execution_count": 19,
          "output_type": "execute_result",
          "data": {
            "text/plain": "\"\\npd.read_excel('file.xlsx')\\n\""
          },
          "metadata": {}
        }
      ],
      "execution_count": 19
    },
    {
      "id": "80472632-86e7-45fd-89e3-9597f07b4039",
      "cell_type": "code",
      "source": "def extract_username(df):\n    df[\"username\"] = df[\"Email\"].apply(lambda x: x.split(\"@\")[0])\n    return df\ndf = pd.DataFrame({'Email':['joe@gmail.com','alice@gmail.com','bob@yahoo.com']})\ndf = extract_username(df)\nprint(df)",
      "metadata": {
        "trusted": true
      },
      "outputs": [
        {
          "name": "stdout",
          "output_type": "stream",
          "text": "             Email username\n0    joe@gmail.com      joe\n1  alice@gmail.com    alice\n2    bob@yahoo.com      bob\n"
        }
      ],
      "execution_count": 21
    },
    {
      "id": "4bb93291-581a-4995-bb05-c2106477caf9",
      "cell_type": "code",
      "source": "def filter_dataframe(df):\n    return df[(df['A'] >5)& (df['B'] <10)]\ndf = pd.DataFrame({'A' :[3,8,6,2,9], 'B':[5,2,9,3,1], 'C':[1,7,4,5,2]})\nfiltered_df = filter_dataframe(df)\nprint(filtered_df)\n                            ",
      "metadata": {
        "trusted": true
      },
      "outputs": [
        {
          "name": "stdout",
          "output_type": "stream",
          "text": "   A  B  C\n1  8  2  7\n2  6  9  4\n4  9  1  2\n"
        }
      ],
      "execution_count": 22
    },
    {
      "id": "1ca758dc-a56f-4d86-b375-3c8a9b614877",
      "cell_type": "code",
      "source": "def calculate(df):\n    df['MovingAverage'] = df['Sales'].rolling(window=7, min_periods=1).mean()\n    return df\ndf = pd.DataFrame({'Sales':[100,200,300,400,500,600,700,800,900], 'Date': pd.date_range(start='2023-01-01', periods =9)})\ndf =calculate(df)\nprint(df)",
      "metadata": {
        "trusted": true
      },
      "outputs": [
        {
          "name": "stdout",
          "output_type": "stream",
          "text": "   Sales       Date  MovingAverage\n0    100 2023-01-01          100.0\n1    200 2023-01-02          150.0\n2    300 2023-01-03          200.0\n3    400 2023-01-04          250.0\n4    500 2023-01-05          300.0\n5    600 2023-01-06          350.0\n6    700 2023-01-07          400.0\n7    800 2023-01-08          500.0\n8    900 2023-01-09          600.0\n"
        }
      ],
      "execution_count": 24
    },
    {
      "id": "6e683eab-54ce-4a4a-9170-2249b1a057b7",
      "cell_type": "code",
      "source": "def add_weekday_column(df):\n    df['Weekday'] = pd.to_datetime(df['Date']).dt.day_name()\n    return df\n\ndf = pd.DataFrame({'Date': pd.date_range(start='2023-01-01', periods=5)})\ndf = add_weekday_column(df)\nprint(\"\\nQ11: DataFrame with Weekday:\\n\", df)",
      "metadata": {
        "trusted": true
      },
      "outputs": [
        {
          "name": "stdout",
          "output_type": "stream",
          "text": "\nQ11: DataFrame with Weekday:\n         Date    Weekday\n0 2023-01-01     Sunday\n1 2023-01-02     Monday\n2 2023-01-03    Tuesday\n3 2023-01-04  Wednesday\n4 2023-01-05   Thursday\n"
        }
      ],
      "execution_count": 25
    },
    {
      "id": "928f4914-26f1-4034-95ec-2f6f84be7d80",
      "cell_type": "code",
      "source": "def filter_by_date(df):\n    return df[(df['Date'] >= '2023-01-01') & (df['Date'] <= '2023-01-31')]\n\ndf = pd.DataFrame({'Date': pd.date_range(start='2022-12-25', periods=10)})\nfiltered_df = filter_by_date(df)\nprint(\"\\nQ12: Filtered DataFrame by Date:\\n\", filtered_df)",
      "metadata": {
        "trusted": true
      },
      "outputs": [
        {
          "name": "stdout",
          "output_type": "stream",
          "text": "\nQ12: Filtered DataFrame by Date:\n         Date\n7 2023-01-01\n8 2023-01-02\n9 2023-01-03\n"
        }
      ],
      "execution_count": 26
    },
    {
      "id": "2c9d2e02-3c88-44d6-9d58-4c59c224b6c5",
      "cell_type": "code",
      "source": "\"\"\" import pandas as pd\"\"\"",
      "metadata": {
        "trusted": true
      },
      "outputs": [
        {
          "execution_count": 27,
          "output_type": "execute_result",
          "data": {
            "text/plain": "' import pandas as pd'"
          },
          "metadata": {}
        }
      ],
      "execution_count": 27
    },
    {
      "id": "cb37a1cc-c5d7-4dee-ba2d-d8da35218304",
      "cell_type": "code",
      "source": "",
      "metadata": {
        "trusted": true
      },
      "outputs": [],
      "execution_count": null
    }
  ]
}