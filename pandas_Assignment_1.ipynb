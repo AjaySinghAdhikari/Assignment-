{
  "metadata": {
    "kernelspec": {
      "name": "python",
      "display_name": "Python (Pyodide)",
      "language": "python"
    },
    "language_info": {
      "codemirror_mode": {
        "name": "python",
        "version": 3
      },
      "file_extension": ".py",
      "mimetype": "text/x-python",
      "name": "python",
      "nbconvert_exporter": "python",
      "pygments_lexer": "ipython3",
      "version": "3.8"
    }
  },
  "nbformat_minor": 5,
  "nbformat": 4,
  "cells": [
    {
      "id": "62ae1f53-0628-44c7-a176-82661f8506b7",
      "cell_type": "code",
      "source": "import pandas as pd\n",
      "metadata": {
        "trusted": true
      },
      "outputs": [],
      "execution_count": 1
    },
    {
      "id": "87faa3b5-1a62-41bb-9af7-21703b2945c5",
      "cell_type": "code",
      "source": "data =[4,8,15,16, 23, 42]",
      "metadata": {
        "trusted": true
      },
      "outputs": [],
      "execution_count": 3
    },
    {
      "id": "761dca66-a32e-4cd1-b841-9e5483ee1555",
      "cell_type": "code",
      "source": "series= pd.Series(data)",
      "metadata": {
        "trusted": true
      },
      "outputs": [],
      "execution_count": 4
    },
    {
      "id": "737846e5-38da-4d24-b825-783c1db07efa",
      "cell_type": "code",
      "source": "print(\"Q1: Pandas Series:\")",
      "metadata": {
        "trusted": true
      },
      "outputs": [
        {
          "name": "stdout",
          "output_type": "stream",
          "text": "Q1: Pandas Series:\n"
        }
      ],
      "execution_count": 5
    },
    {
      "id": "32840f22-c3f8-44d6-995d-65ecfd4355a0",
      "cell_type": "code",
      "source": "print(series)",
      "metadata": {
        "trusted": true
      },
      "outputs": [
        {
          "name": "stdout",
          "output_type": "stream",
          "text": "0     4\n1     8\n2    15\n3    16\n4    23\n5    42\ndtype: int64\n"
        }
      ],
      "execution_count": 6
    },
    {
      "id": "2fa096ca-4010-421e-b50e-7bc526976211",
      "cell_type": "markdown",
      "source": "##Question2",
      "metadata": {}
    },
    {
      "id": "b7df922e-b433-4ef3-b00c-07a5ad0d8df0",
      "cell_type": "code",
      "source": "list_data=[10,20,30,40,50,60,70,80,90,100]\n",
      "metadata": {
        "trusted": true
      },
      "outputs": [],
      "execution_count": 9
    },
    {
      "id": "76ef949a-0d8c-4e61-aa12-250bbfa4f50c",
      "cell_type": "code",
      "source": "series_from_list= pd.Series(list_data)\n",
      "metadata": {
        "trusted": true
      },
      "outputs": [],
      "execution_count": 10
    },
    {
      "id": "353b3a49-ad73-4d43-a2d5-209d4e0580db",
      "cell_type": "code",
      "source": "print(\"\\nQ2: pandas series from a list:\")",
      "metadata": {
        "trusted": true
      },
      "outputs": [
        {
          "name": "stdout",
          "output_type": "stream",
          "text": "\nQ2: pandas series from a list:\n"
        }
      ],
      "execution_count": 11
    },
    {
      "id": "e514a0ba-663a-41df-acea-cad9876b4ef6",
      "cell_type": "code",
      "source": "print(series_from_list)",
      "metadata": {
        "trusted": true
      },
      "outputs": [
        {
          "name": "stdout",
          "output_type": "stream",
          "text": "0     10\n1     20\n2     30\n3     40\n4     50\n5     60\n6     70\n7     80\n8     90\n9    100\ndtype: int64\n"
        }
      ],
      "execution_count": 12
    },
    {
      "id": "debd5ef9-3c6b-4d6d-8c43-f797a5ee54d3",
      "cell_type": "markdown",
      "source": "#Question 3",
      "metadata": {}
    },
    {
      "id": "7d97b912-9f7a-4b22-b945-64b5b17a0860",
      "cell_type": "code",
      "source": "data_dict = {\n    \"Name\":[\"Alice\",\"Bob\",\"Claire\"],\n    \"Age\":[25,30, 27],\n    \"Gender\":[\"Female\", \"male\", \"Female\"]\n}",
      "metadata": {
        "trusted": true
      },
      "outputs": [],
      "execution_count": 14
    },
    {
      "id": "105ac10f-bb27-4300-b52e-50237a7f291a",
      "cell_type": "code",
      "source": "df= pd.DataFrame(data_dict)",
      "metadata": {
        "trusted": true
      },
      "outputs": [],
      "execution_count": 15
    },
    {
      "id": "e2d51d4f-8b75-4450-a329-8020a4ed92a4",
      "cell_type": "code",
      "source": "print(\"\\nQ3: Pandas DataFrame:\")",
      "metadata": {
        "trusted": true
      },
      "outputs": [
        {
          "name": "stdout",
          "output_type": "stream",
          "text": "\nQ3: Pandas DataFrame:\n"
        }
      ],
      "execution_count": 16
    },
    {
      "id": "7ab94ebf-7b1a-4813-aad0-123a29d0d989",
      "cell_type": "code",
      "source": "print(df)",
      "metadata": {
        "trusted": true
      },
      "outputs": [
        {
          "name": "stdout",
          "output_type": "stream",
          "text": "     Name  Age  Gender\n0   Alice   25  Female\n1     Bob   30    male\n2  Claire   27  Female\n"
        }
      ],
      "execution_count": 17
    },
    {
      "id": "08c02f8b-cbd3-43bd-a563-2268975a5713",
      "cell_type": "code",
      "source": "\n\"\"\"\nA Pandas Series is a one-dimensional labeled array that can hold any data type, \nwhereas a Pandas DataFrame is a two-dimensional labeled data structure with \ncolumns of potentially different types.\n\nExample:\n- Series: A single column of numbers (e.g., [4, 8, 15, 16, 23, 42])\n- DataFrame: A structured table with multiple columns (e.g., Name, Age, Gender).\"\"\"",
      "metadata": {
        "trusted": true
      },
      "outputs": [
        {
          "execution_count": 21,
          "output_type": "execute_result",
          "data": {
            "text/plain": "'\\nA Pandas Series is a one-dimensional labeled array that can hold any data type, \\nwhereas a Pandas DataFrame is a two-dimensional labeled data structure with \\ncolumns of potentially different types.\\n\\nExample:\\n- Series: A single column of numbers (e.g., [4, 8, 15, 16, 23, 42])\\n- DataFrame: A structured table with multiple columns (e.g., Name, Age, Gender).'"
          },
          "metadata": {}
        }
      ],
      "execution_count": 21
    },
    {
      "id": "6c1b13f2-b623-403c-b46d-7dd4c8344c89",
      "cell_type": "code",
      "source": "\"\"\"Some common functions:\n- df.head() → View the first few rows\n- df.tail() → View the last few rows\n- df.info() → Get summary information\n- df.describe() → Get statistical insights\n- df.drop(columns=['column_name']) → Remove a column\n- df['column_name'].mean() → Calculate mean of a column\"\"\"",
      "metadata": {
        "trusted": true
      },
      "outputs": [
        {
          "execution_count": 22,
          "output_type": "execute_result",
          "data": {
            "text/plain": "\"Some common functions:\\n- df.head() → View the first few rows\\n- df.tail() → View the last few rows\\n- df.info() → Get summary information\\n- df.describe() → Get statistical insights\\n- df.drop(columns=['column_name']) → Remove a column\\n- df['column_name'].mean() → Calculate mean of a column\""
          },
          "metadata": {}
        }
      ],
      "execution_count": 22
    },
    {
      "id": "05731603-69ed-4258-bb70-4296c22cbed0",
      "cell_type": "code",
      "source": "\"\"\"\n- Series: Mutable (data can be changed, but the size cannot be changed)\n- DataFrame: Mutable (both data and size can be changed)\n- Panel (deprecated in newer versions of Pandas): Mutable\n\"\"\"",
      "metadata": {
        "trusted": true
      },
      "outputs": [
        {
          "execution_count": 23,
          "output_type": "execute_result",
          "data": {
            "text/plain": "'\\n- Series: Mutable (data can be changed, but the size cannot be changed)\\n- DataFrame: Mutable (both data and size can be changed)\\n- Panel (deprecated in newer versions of Pandas): Mutable\\n'"
          },
          "metadata": {}
        }
      ],
      "execution_count": 23
    },
    {
      "id": "0207fd98-3f7e-486b-8d15-9237865a418b",
      "cell_type": "markdown",
      "source": "#Question 7",
      "metadata": {}
    },
    {
      "id": "ccc0f0f0-3de3-4dcd-bece-50b6706f5eac",
      "cell_type": "code",
      "source": "names= pd.Series([\"Alice\",\"Bob\", \"Claire\"])",
      "metadata": {
        "trusted": true
      },
      "outputs": [],
      "execution_count": 25
    },
    {
      "id": "d8f15081-c691-45ee-9593-aa87b416f6a0",
      "cell_type": "code",
      "source": "ages= pd.Series([23,24,25])",
      "metadata": {
        "trusted": true
      },
      "outputs": [],
      "execution_count": 26
    },
    {
      "id": "db308bcf-3ced-41bf-b360-738b31525874",
      "cell_type": "code",
      "source": "genders = pd.Series([\"Female\", \"Male\", \"Female\"])",
      "metadata": {
        "trusted": true
      },
      "outputs": [],
      "execution_count": 27
    },
    {
      "id": "4525ce77-a520-40b8-bf18-a9c3ce00b609",
      "cell_type": "code",
      "source": "df_series= pd.DataFrame({\"Name\": names, \"Age\": ages, \"Gender\":genders})",
      "metadata": {
        "trusted": true
      },
      "outputs": [],
      "execution_count": 28
    },
    {
      "id": "065639c2-16ae-4ff5-96fb-487675ca04a3",
      "cell_type": "code",
      "source": "print(df_series)",
      "metadata": {
        "trusted": true
      },
      "outputs": [
        {
          "name": "stdout",
          "output_type": "stream",
          "text": "     Name  Age  Gender\n0   Alice   23  Female\n1     Bob   24    Male\n2  Claire   25  Female\n"
        }
      ],
      "execution_count": 29
    },
    {
      "id": "9b615009-f49f-40c1-8c7f-4d24d5a9dc2d",
      "cell_type": "code",
      "source": "",
      "metadata": {
        "trusted": true
      },
      "outputs": [],
      "execution_count": null
    }
  ]
}