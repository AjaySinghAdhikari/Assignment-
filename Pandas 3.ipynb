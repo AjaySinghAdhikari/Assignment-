{
  "metadata": {
    "kernelspec": {
      "name": "python",
      "display_name": "Python (Pyodide)",
      "language": "python"
    },
    "language_info": {
      "codemirror_mode": {
        "name": "python",
        "version": 3
      },
      "file_extension": ".py",
      "mimetype": "text/x-python",
      "name": "python",
      "nbconvert_exporter": "python",
      "pygments_lexer": "ipython3",
      "version": "3.8"
    }
  },
  "nbformat_minor": 5,
  "nbformat": 4,
  "cells": [
    {
      "id": "d2e613ef-d474-411f-8d3d-87515c432cf8",
      "cell_type": "code",
      "source": "import pandas as pd\nimport numpy as np\nfrom datetime import datetime",
      "metadata": {
        "trusted": true
      },
      "outputs": [],
      "execution_count": 1
    },
    {
      "id": "f6a94c66-d3e9-4d26-906f-a044d4f5e755",
      "cell_type": "code",
      "source": "df = pd.DataFrame({'course_name':['Data Science', 'Machine Learning', 'Big Data', 'Data Engineer'], 'duration':[2,3,5,4]})\nprint(df.iloc[1])",
      "metadata": {
        "trusted": true
      },
      "outputs": [
        {
          "name": "stdout",
          "output_type": "stream",
          "text": "course_name    Machine Learning\nduration                      3\nName: 1, dtype: object\n"
        }
      ],
      "execution_count": 2
    },
    {
      "id": "3e8e8fc5-ef8a-4fd3-b55a-b0cb068bbda9",
      "cell_type": "markdown",
      "source": "#Question2",
      "metadata": {}
    },
    {
      "id": "c05b6ed4-6402-4b3b-a8c6-04f630b795f1",
      "cell_type": "code",
      "source": "\"\"\"'loc' is label-based indexing while'iloc' is integer-location based indexing.\"\"\"",
      "metadata": {
        "trusted": true
      },
      "outputs": [
        {
          "execution_count": 3,
          "output_type": "execute_result",
          "data": {
            "text/plain": "\"'loc' is label-based indexing while'iloc' is integer-location based indexing.\""
          },
          "metadata": {}
        }
      ],
      "execution_count": 3
    },
    {
      "id": "dcfd2d93-0ae1-4fc0-988c-d8dc667d46e8",
      "cell_type": "markdown",
      "source": "#Question 3",
      "metadata": {}
    },
    {
      "id": "0f3c2991-978c-4eb7-9ae9-ae714baad2e0",
      "cell_type": "code",
      "source": "reindex = [3,0,1,2]\nnew_df = df.reindex(reindex)\nprint(\"new_df.loc[2]:\", new_df.loc[2])\nprint(\"new_df.iloc[2]:\", new_df.iloc[2])",
      "metadata": {
        "trusted": true
      },
      "outputs": [
        {
          "name": "stdout",
          "output_type": "stream",
          "text": "new_df.loc[2]: course_name    Big Data\nduration              5\nName: 2, dtype: object\nnew_df.iloc[2]: course_name    Machine Learning\nduration                      3\nName: 1, dtype: object\n"
        }
      ],
      "execution_count": 4
    },
    {
      "id": "5e142280-de5f-4092-ad17-cf2862c32d78",
      "cell_type": "code",
      "source": "df1 = pd.DataFrame(np.random.rand(6,6), columns=['column_1', 'col_2', 'col_3', 'col_4','col_5','col_6'])\n",
      "metadata": {
        "trusted": true
      },
      "outputs": [],
      "execution_count": 6
    },
    {
      "id": "14f7b6a0-b4fc-468e-bebc-e97ce0582084",
      "cell_type": "code",
      "source": "print(\"Mean of each column\\n\" , df1.mean())\nprint(\"Standard Deviation of col_2:\", df1['col_2'].std())",
      "metadata": {
        "trusted": true
      },
      "outputs": [
        {
          "name": "stdout",
          "output_type": "stream",
          "text": "Mean of each column\n column_1    0.544591\ncol_2       0.353225\ncol_3       0.600692\ncol_4       0.540995\ncol_5       0.463391\ncol_6       0.434593\ndtype: float64\nStandard Deviation of col_2: 0.3093578508175416\n"
        }
      ],
      "execution_count": 7
    },
    {
      "id": "846ac637-40d9-40d8-950b-e6a7a7417eff",
      "cell_type": "code",
      "source": "df1.loc[1,'col_2'] = 'string_value'\ntry:\n    print(\"Mean of col_2\", df1['col_2'].mean())\nexcept Exception as e:\n    print(e)",
      "metadata": {
        "trusted": true
      },
      "outputs": [
        {
          "name": "stderr",
          "output_type": "stream",
          "text": "<ipython-input-8-bccb202ac1f9>:1: FutureWarning: Setting an item of incompatible dtype is deprecated and will raise an error in a future version of pandas. Value 'string_value' has dtype incompatible with float64, please explicitly cast to a compatible dtype first.\n  df1.loc[1,'col_2'] = 'string_value'\n"
        },
        {
          "name": "stdout",
          "output_type": "stream",
          "text": "unsupported operand type(s) for +: 'float' and 'str'\n"
        }
      ],
      "execution_count": 8
    },
    {
      "id": "89b539fd-0952-408e-818c-676f53b6b665",
      "cell_type": "code",
      "source": "# Answer: Window functions are used for rolling/moving average, expanding calculations, etc.\n# Types: rolling(), expanding(), ewm()\n",
      "metadata": {
        "trusted": true
      },
      "outputs": [],
      "execution_count": 9
    },
    {
      "id": "e57cea9d-2e5f-4fc5-867e-ddc0c0056f6a",
      "cell_type": "markdown",
      "source": "#Question 7",
      "metadata": {}
    },
    {
      "id": "e632d113-55b2-4adc-9bfc-b8470d1b9404",
      "cell_type": "code",
      "source": "print(\"Current month and year:\", pd.to_datetime('today').strftime('%B %Y'))",
      "metadata": {
        "trusted": true
      },
      "outputs": [
        {
          "name": "stdout",
          "output_type": "stream",
          "text": "Current month and year: February 2025\n"
        }
      ],
      "execution_count": 11
    },
    {
      "id": "d61de951-964f-491e-86d5-e32cebc3bd08",
      "cell_type": "code",
      "source": "def date_difference():\n    date1= input(\"Enter first date(YYYY-MM-DD): \")\n    date2 - input(\"Enter second date(YYYY-MM-DD): \")\n    d1 = pd.to_datetime(date1)\n    d2= pd.to_datetime(date2)\n    diff = abs(d2-d1)\n    print(f\"Days:{diff.days}, Hours: {diff.seconds//3600}, Minutes:{(diff.seconds//60)%60}\")",
      "metadata": {
        "trusted": true
      },
      "outputs": [],
      "execution_count": 15
    },
    {
      "id": "986dfefa-b93f-4d23-acb8-6f90977b6997",
      "cell_type": "code",
      "source": "def convert_to_categorical():\n    file_path= input(\"Enter CSV file path:\")\n    column_name = input(\"Enter column name to convert:\")\n    categories= input(\"Enter categories in order (comma-separated):\").split(',')\n    df = pd.read_csv(file_path)\n    df[column_name]= pd.Categorical(df[column_name], categories= categories, ordered = True)\n    print(df.sort_values(by= column_name))",
      "metadata": {
        "trusted": true
      },
      "outputs": [],
      "execution_count": 16
    },
    {
      "id": "ebcb16e3-0c8a-4b09-9a71-827bdb653a5c",
      "cell_type": "code",
      "source": "def plot_sales_data():\n    import matplotlib.pyplot as plt\n    file_path = input(\"enter CSV file path:\")\n    df = pd.read_csv(file_path)\n    df.pivot(index = 'Date', columns='Products', values = 'Sales').plot(kind = 'bar', stacked = True)\n    plt.show()",
      "metadata": {
        "trusted": true
      },
      "outputs": [],
      "execution_count": 18
    },
    {
      "id": "ae3d87a5-eca6-42ac-9a50-110a1140140d",
      "cell_type": "code",
      "source": "def student_statistics():\n    file_path = input(\"Enter student data CSV file path: \")\n    df = pd.read_csv(file_path)\n    mean_score = df['Test Score'].mean()\n    median_score = df['Test Score'].median()\n    mode_score = df['Test Score'].mode().tolist()\n    print(\"+-----------+--------+\")\n    print(\"| Statistic | Value  |\")\n    print(\"+-----------+--------+\")\n    print(f\"| Mean      | {mean_score:.2f} |\")\n    print(f\"| Median    | {median_score:.2f} |\")\n    print(f\"| Mode      | {', '.join(map(str, mode_score))} |\")\n    print(\"+-----------+--------+\")",
      "metadata": {
        "trusted": true
      },
      "outputs": [],
      "execution_count": 19
    },
    {
      "id": "c70db07e-3938-4d7d-ad84-4f764b758ad1",
      "cell_type": "code",
      "source": "",
      "metadata": {
        "trusted": true
      },
      "outputs": [],
      "execution_count": null
    }
  ]
}