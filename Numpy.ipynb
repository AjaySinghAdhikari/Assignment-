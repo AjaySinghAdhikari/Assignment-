{
  "metadata": {
    "kernelspec": {
      "name": "python",
      "display_name": "Python (Pyodide)",
      "language": "python"
    },
    "language_info": {
      "codemirror_mode": {
        "name": "python",
        "version": 3
      },
      "file_extension": ".py",
      "mimetype": "text/x-python",
      "name": "python",
      "nbconvert_exporter": "python",
      "pygments_lexer": "ipython3",
      "version": "3.8"
    }
  },
  "nbformat_minor": 5,
  "nbformat": 4,
  "cells": [
    {
      "id": "98685f32-660e-4e0c-ada0-8bf4c383dbb3",
      "cell_type": "code",
      "source": "import numpy as np\nlist_=['1', '2','3','4','5']\narray_list = np.array(object = list_)\n",
      "metadata": {
        "trusted": true
      },
      "outputs": [],
      "execution_count": 5
    },
    {
      "id": "4a4409f6-b3ea-4129-9b13-95f71b1e6357",
      "cell_type": "code",
      "source": "print(\"Data type of list_:\" ,type(list_))",
      "metadata": {
        "trusted": true
      },
      "outputs": [
        {
          "name": "stdout",
          "output_type": "stream",
          "text": "Data type of list_: <class 'list'>\n"
        }
      ],
      "execution_count": 3
    },
    {
      "id": "f1f8933e-ad9d-49b9-85b0-213b52b54305",
      "cell_type": "code",
      "source": "print(\"Data type of array_list:\", type(array_list))\n",
      "metadata": {
        "trusted": true
      },
      "outputs": [
        {
          "name": "stdout",
          "output_type": "stream",
          "text": "Data type of array_list: <class 'numpy.ndarray'>\n"
        }
      ],
      "execution_count": 6
    },
    {
      "id": "8e884cb6-4521-4b99-ae04-ba9e6e2b1c08",
      "cell_type": "code",
      "source": "print('Data types in list_:')\nfor item in list_:\n    print(type(item))\nprint(\"Data types in array_list:\")\nfor item in array_list:\n    print(type(item))",
      "metadata": {
        "trusted": true
      },
      "outputs": [
        {
          "name": "stdout",
          "output_type": "stream",
          "text": "Data types in list_:\n<class 'str'>\n<class 'str'>\n<class 'str'>\n<class 'str'>\n<class 'str'>\nData types in array_list:\n<class 'numpy.str_'>\n<class 'numpy.str_'>\n<class 'numpy.str_'>\n<class 'numpy.str_'>\n<class 'numpy.str_'>\n"
        }
      ],
      "execution_count": 7
    },
    {
      "id": "a8b04139-f2c5-41a4-a6b0-1e261202ff9c",
      "cell_type": "code",
      "source": "array_list = np.array(object= list_, dtype=int)\n\nprint(\"data type after conversion:\")\nfor item in array_list:\n    print(type(item))",
      "metadata": {
        "trusted": true
      },
      "outputs": [
        {
          "name": "stdout",
          "output_type": "stream",
          "text": "data type after conversion:\n<class 'numpy.int32'>\n<class 'numpy.int32'>\n<class 'numpy.int32'>\n<class 'numpy.int32'>\n<class 'numpy.int32'>\n"
        }
      ],
      "execution_count": 8
    },
    {
      "id": "cf4ba6f0-673a-4ea8-97a3-1e31fcbc8676",
      "cell_type": "code",
      "source": "num_list = [[1,2,3], [4,5,6]]\nnum_array = np.array(object = num_list)\nprint(\"Shape of num_array:\", num_array.shape)\nprint(\"Size of num_array:\", num_array.size)",
      "metadata": {
        "trusted": true
      },
      "outputs": [
        {
          "name": "stdout",
          "output_type": "stream",
          "text": "Shape of num_array: (2, 3)\nSize of num_array: 6\n"
        }
      ],
      "execution_count": 9
    },
    {
      "id": "0a397db5-230f-416b-a434-009402784cbd",
      "cell_type": "code",
      "source": "",
      "metadata": {
        "trusted": true
      },
      "outputs": [],
      "execution_count": null
    }
  ]
}